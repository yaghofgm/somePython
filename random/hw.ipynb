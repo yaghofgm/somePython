{
 "cells": [
  {
   "cell_type": "code",
   "execution_count": null,
   "id": "ea691d6e-587b-478e-b12a-63169043901f",
   "metadata": {},
   "outputs": [
    {
     "data": {
      "application/vnd.jupyter.widget-view+json": {
       "model_id": "1525b3402fcb40949eb314530d5278ba",
       "version_major": 2,
       "version_minor": 0
      },
      "text/plain": [
       "interactive(children=(FloatSlider(value=0.0, description='t', max=3.0, step=0.01), Output()), _dom_classes=('w…"
      ]
     },
     "metadata": {},
     "output_type": "display_data"
    },
    {
     "data": {
      "text/plain": [
       "<function __main__.update_plot(t_val=0)>"
      ]
     },
     "execution_count": 20,
     "metadata": {},
     "output_type": "execute_result"
    }
   ],
   "source": [
    "import numpy as np\n",
    "import matplotlib.pyplot as plt\n",
    "from ipywidgets import interact, FloatSlider, IntSlider\n",
    "\n",
    "import warnings\n",
    "warnings.filterwarnings(\"ignore\") \n",
    "m=3\n",
    "def f(t):\n",
    "    return 0.75*(1-np.exp(-3.2*t))\n",
    "def update_plot(t_val=0):\n",
    "    t = np.linspace(0,m,100*m)\n",
    "    y=f(t)\n",
    "\n",
    "    y_val = f(t_val)\n",
    "\n",
    "    plt.figure(figsize=(8,4))\n",
    "    plt.plot(t,y,label=r\"$f(t)=0.75\\left(1 - \\mathrm{e}^{-3.2t}\\right)$\")\n",
    "    plt.scatter([t_val], [y_val], color='red', label=f\"Point ({t_val:.1f}, {y_val:.3f})\")\n",
    "    plt.xlabel(\"t\")\n",
    "    plt.ylabel(\"f(t)\")\n",
    "    plt.title(\"Interactive Plot of f(t)\")\n",
    "    plt.legend()\n",
    "    plt.grid(True)\n",
    "    # plt.axis('equal')\n",
    "    plt.show()\n",
    "\n",
    "# Create the interactive widget\n",
    "interact(update_plot, t_val=FloatSlider(min=0, max=m, step=0.01, value=0, description=\"t\"))"
   ]
  }
 ],
 "metadata": {
  "language_info": {
   "codemirror_mode": {
    "name": "ipython",
    "version": 3
   },
   "file_extension": ".py",
   "mimetype": "text/x-python",
   "name": "python",
   "nbconvert_exporter": "python",
   "pygments_lexer": "ipython3",
   "version": 3
  }
 },
 "nbformat": 4,
 "nbformat_minor": 2
}
