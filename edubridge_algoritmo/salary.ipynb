{
 "cells": [
  {
   "cell_type": "code",
   "execution_count": 1,
   "id": "e08df0ba-69b0-4906-a7f3-865b8e607f5c",
   "metadata": {},
   "outputs": [
    {
     "data": {
      "application/vnd.jupyter.widget-view+json": {
       "model_id": "a83ecdb5aca8469e98f941942a75d2b4",
       "version_major": 2,
       "version_minor": 0
      },
      "text/plain": [
       "interactive(children=(IntSlider(value=100000, description='Empréstimo', max=200000, min=1000, step=1000), Floa…"
      ]
     },
     "metadata": {},
     "output_type": "display_data"
    },
    {
     "data": {
      "text/plain": [
       "<function __main__.update_plot(emprestimo=100000, juros=0.01, salary=500)>"
      ]
     },
     "execution_count": 1,
     "metadata": {},
     "output_type": "execute_result"
    }
   ],
   "source": [
    "import numpy as np\n",
    "import matplotlib.pyplot as plt\n",
    "from ipywidgets import interact, FloatSlider, IntSlider\n",
    "\n",
    "import warnings\n",
    "warnings.filterwarnings(\"ignore\")  # só pra não poluir o output com mensagens do matplotlib\n",
    "\n",
    "# while(divida>0,months<120,divida<emprestimo*1.8):\n",
    "# burro, era para usar and, senao vodce fe uma tupla que roda enquanto a tupla for verdadeira\n",
    "\n",
    "def update_plot(emprestimo=100000, juros=0.01, salary=500):\n",
    "    def update_divida(divida,salary,juros):\n",
    "        divida = (divida-salary)*(1+juros)  \n",
    "        if divida <0:\n",
    "            divida = 0\n",
    "        return divida\n",
    "\n",
    "    # months=np.arange(120)\n",
    "    divida_list = []\n",
    "    total_pago_list=[]\n",
    "    divida = emprestimo\n",
    "    total_pago=0\n",
    "    months=0\n",
    "    \n",
    "    while divida > 0 and months < 120 and total_pago < emprestimo*1.8:\n",
    "        divida = update_divida(divida,salary,juros)\n",
    "        divida_list.append(divida)\n",
    "        total_pago_list.append(total_pago)\n",
    "        total_pago += salary\n",
    "        months += 1\n",
    "\n",
    "    plt.figure(figsize=(8,4))\n",
    "    plt.plot(range(len(divida_list)), divida_list, label=\"Montante Devido\")\n",
    "    plt.plot(range(len(total_pago_list)), total_pago_list, 'r--', label=\"Total Pago (acumulado)\")\n",
    "    plt.xlabel(\"Meses\")\n",
    "    plt.ylabel(\"divida Devido\")\n",
    "    plt.title(\"Evolução do divida ao Longo do Tempo\")\n",
    "    plt.grid(True)\n",
    "    plt.show()\n",
    "\n",
    "    print(f\"total de meses até quitar ou atingir 1.8x o valor do empréstimo: {months}\")\n",
    "\n",
    "# update_plot()\n",
    "# Sliders\n",
    "interact(\n",
    "    update_plot,\n",
    "    emprestimo=IntSlider(min=1000, max=200000, step=1000, value=100000, description=\"Empréstimo\"),\n",
    "    salary=IntSlider(min=100, max=20000, step=100, value=5000, description=\"Salário\"),\n",
    "    juros=FloatSlider(min=0.001, max=0.09, step=0.001, value=0.01, description=\"Juros\")\n",
    ")"
   ]
  },
  {
   "cell_type": "code",
   "execution_count": null,
   "id": "644d9789-8eb3-44ce-9003-1e227ac81e72",
   "metadata": {},
   "outputs": [
    {
     "data": {
      "application/vnd.jupyter.widget-view+json": {
       "model_id": "4ed41a9c436545c2ba3270fb2c9046ce",
       "version_major": 2,
       "version_minor": 0
      },
      "text/plain": [
       "interactive(children=(IntSlider(value=100000, description='Empréstimo', max=200000, min=1000, step=1000), Floa…"
      ]
     },
     "metadata": {},
     "output_type": "display_data"
    },
    {
     "data": {
      "text/plain": [
       "<function __main__.update_plot(emprestimo=100000, juros=0.01, salary=500)>"
      ]
     },
     "execution_count": 2,
     "metadata": {},
     "output_type": "execute_result"
    }
   ],
   "source": [
    "import numpy as np\n",
    "import matplotlib.pyplot as plt\n",
    "from ipywidgets import interact, FloatSlider, IntSlider\n",
    "\n",
    "import warnings\n",
    "warnings.filterwarnings(\"ignore\")  # só pra não poluir o output com mensagens do matplotlib\n",
    "\n",
    "# while(divida>0,months<120,divida<emprestimo*1.8):\n",
    "# burro, era para usar and, senao vodce fe uma tupla que roda enquanto a tupla for verdadeira\n",
    "\n",
    "def update_plot(emprestimo=100000, juros=0.01, salary=500):\n",
    "    def update_divida(divida,salary,juros):\n",
    "        divida = (divida-salary)*(1+juros)  \n",
    "        if divida <0:\n",
    "            divida = 0\n",
    "        return divida\n",
    "\n",
    "    # months=np.arange(120)\n",
    "    divida_list = []\n",
    "    total_pago_list=[]\n",
    "    divida = emprestimo\n",
    "    total_pago=0\n",
    "    months=0\n",
    "    \n",
    "    while divida > 0 and months < 120 and total_pago < emprestimo*1.8:\n",
    "        divida = update_divida(divida,salary,juros)\n",
    "        divida_list.append(divida)\n",
    "        total_pago_list.append(total_pago)\n",
    "        total_pago += salary\n",
    "        months += 1\n",
    "\n",
    "\n",
    "    plt.figure(figsize=(8,4))\n",
    "    plt.plot(range(len(divida_list)), divida_list, label=\"Montante Devido\")\n",
    "    plt.plot(range(len(total_pago_list)), total_pago_list, 'r--', label=\"Total Pago (acumulado)\")\n",
    "    plt.xlabel(\"Meses\")\n",
    "    plt.ylabel(\"divida Devido\")\n",
    "    plt.title(\"Evolução do divida ao Longo do Tempo\")\n",
    "    plt.grid(True)\n",
    "    plt.show()\n",
    "    if divida_list[-1] == 0:\n",
    "        print(f\"Divida quitada em {months} meses\")\n",
    "    elif months == 120:\n",
    "        print(f\"Divida não quitada em 120 meses. Divida restante: {divida_list[-1]}\")\n",
    "    else:\n",
    "        print(f\"Valor pago excedeu 1.8x o valor do empréstimo. Divida restante: {divida_list[-1]}\")\n",
    "\n",
    "# update_plot()\n",
    "# Sliders\n",
    "interact(\n",
    "    update_plot,\n",
    "    emprestimo=IntSlider(min=1000, max=200000, step=1000, value=100000, description=\"Empréstimo\"),\n",
    "    salary=IntSlider(min=100, max=20000, step=100, value=5000, description=\"Salário\"),\n",
    "    juros=FloatSlider(min=0.001, max=0.09, step=0.001, value=0.01, description=\"Juros\")\n",
    ")"
   ]
  },
  {
   "cell_type": "code",
   "execution_count": 3,
   "id": "cf455f59-52e8-4a08-8e44-11dc19150a2f",
   "metadata": {},
   "outputs": [
    {
     "data": {
      "application/vnd.jupyter.widget-view+json": {
       "model_id": "682398a4f07c43f9adeb75a44b04ce28",
       "version_major": 2,
       "version_minor": 0
      },
      "text/plain": [
       "interactive(children=(IntSlider(value=100000, description='Empréstimo', max=200000, min=1000, step=1000), Floa…"
      ]
     },
     "metadata": {},
     "output_type": "display_data"
    },
    {
     "data": {
      "text/plain": [
       "<function __main__.update_plot(emprestimo=100000, juros=0.01, salary=500)>"
      ]
     },
     "execution_count": 3,
     "metadata": {},
     "output_type": "execute_result"
    }
   ],
   "source": [
    "import numpy as np\n",
    "import matplotlib.pyplot as plt\n",
    "from ipywidgets import interact, FloatSlider, IntSlider\n",
    "\n",
    "import warnings\n",
    "warnings.filterwarnings(\"ignore\")  # só pra não poluir o output com mensagens do matplotlib\n",
    "\n",
    "# while(divida>0,months<120,divida<emprestimo*1.8):\n",
    "# burro, era para usar and, senao vodce fe uma tupla que roda enquanto a tupla for verdadeira\n",
    "\n",
    "def update_plot(emprestimo=100000, juros=0.01, salary=500):\n",
    "    def update_divida(divida,salary,juros):\n",
    "        divida = (divida-salary)*(1+juros)  \n",
    "        if divida <0:\n",
    "            divida = 0\n",
    "        return divida\n",
    "\n",
    "    # months=np.arange(120)\n",
    "    divida_list = []\n",
    "    total_pago_list=[]\n",
    "    divida = emprestimo\n",
    "    total_pago=0\n",
    "    months=0\n",
    "    \n",
    "    while divida > 0 and months < 120 and total_pago < emprestimo*1.8:\n",
    "        divida = update_divida(divida,salary,juros)\n",
    "        divida_list.append(divida)\n",
    "        total_pago_list.append(total_pago)\n",
    "        total_pago += salary\n",
    "        months += 1\n",
    "\n",
    "\n",
    "    plt.figure(figsize=(8,4))\n",
    "    plt.plot(range(len(divida_list)), divida_list, label=\"Montante Devido\")\n",
    "    plt.plot(range(len(total_pago_list)), total_pago_list, 'r--', label=\"Total Pago (acumulado)\")\n",
    "    plt.xlabel(\"Meses\")\n",
    "    plt.ylabel(\"divida Devido\")\n",
    "    plt.title(\"Evolução do divida ao Longo do Tempo\")\n",
    "    plt.grid(True)\n",
    "    plt.show()\n",
    "    if divida_list[-1] == 0:\n",
    "        print(f\"Divida quitada em {months} meses\")\n",
    "    elif months == 120:\n",
    "        print(f\"Divida não quitada em 120 meses. Divida restante: {divida_list[-1]}\")\n",
    "    else:\n",
    "        print(f\"Excedeu 1.8x empréstimo. Divida restante: {divida_list[-1]}\")\n",
    "\n",
    "# update_plot()\n",
    "# Sliders\n",
    "interact(\n",
    "    update_plot,\n",
    "    emprestimo=IntSlider(min=1000, max=200000, step=1000, value=100000, description=\"Empréstimo\"),\n",
    "    salary=IntSlider(min=100, max=20000, step=100, value=5000, description=\"Salário\"),\n",
    "    juros=FloatSlider(min=0.001, max=0.09, step=0.001, value=0.01, description=\"Juros\")\n",
    ")"
   ]
  }
 ],
 "metadata": {
  "kernelspec": {
   "display_name": "Python 3",
   "language": "python",
   "name": "python3"
  },
  "language_info": {
   "codemirror_mode": {
    "name": "ipython",
    "version": 3
   },
   "file_extension": ".py",
   "mimetype": "text/x-python",
   "name": "python",
   "nbconvert_exporter": "python",
   "pygments_lexer": "ipython3",
   "version": "3.10.12"
  }
 },
 "nbformat": 4,
 "nbformat_minor": 2
}
